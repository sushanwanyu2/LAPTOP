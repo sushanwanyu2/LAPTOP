{
 "cells": [
  {
   "cell_type": "code",
   "id": "initial_id",
   "metadata": {
    "collapsed": true,
    "ExecuteTime": {
     "end_time": "2024-05-14T12:51:21.473019Z",
     "start_time": "2024-05-14T12:51:21.469866Z"
    }
   },
   "source": "import random",
   "outputs": [],
   "execution_count": 2
  },
  {
   "metadata": {
    "ExecuteTime": {
     "end_time": "2024-05-14T12:51:22.484557Z",
     "start_time": "2024-05-14T12:51:22.474073Z"
    }
   },
   "cell_type": "code",
   "source": [
    "la=random.randint(1,100)\n",
    "la"
   ],
   "id": "52af39057a95a9c8",
   "outputs": [
    {
     "data": {
      "text/plain": [
       "73"
      ]
     },
     "execution_count": 3,
     "metadata": {},
     "output_type": "execute_result"
    }
   ],
   "execution_count": 3
  },
  {
   "metadata": {
    "ExecuteTime": {
     "end_time": "2024-05-14T12:54:38.694633Z",
     "start_time": "2024-05-14T12:54:38.031475Z"
    }
   },
   "cell_type": "code",
   "source": "import pandas",
   "id": "644e2351c151787c",
   "outputs": [],
   "execution_count": 4
  },
  {
   "metadata": {},
   "cell_type": "code",
   "outputs": [],
   "execution_count": null,
   "source": "",
   "id": "e03aaa4df4c53b6e"
  }
 ],
 "metadata": {
  "kernelspec": {
   "display_name": "data_analysis",
   "language": "python",
   "name": "data_analysis"
  },
  "language_info": {
   "codemirror_mode": {
    "name": "ipython",
    "version": 2
   },
   "file_extension": ".py",
   "mimetype": "text/x-python",
   "name": "python",
   "nbconvert_exporter": "python",
   "pygments_lexer": "ipython2",
   "version": "2.7.6"
  }
 },
 "nbformat": 4,
 "nbformat_minor": 5
}
